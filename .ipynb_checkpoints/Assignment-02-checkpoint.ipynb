{
 "cells": [
  {
   "cell_type": "markdown",
   "id": "52c44f38-cb3a-49ff-ab5e-82ee1b1fdb11",
   "metadata": {},
   "source": [
    "# Assignment 02 Solutions"
   ]
  },
  {
   "cell_type": "markdown",
   "id": "ffa0fece-a8e7-415d-8a25-bcd6cf7d0a9f",
   "metadata": {},
   "source": [
    "##### 1. What is the concept of human learning? Please give two examples ?"
   ]
  },
  {
   "cell_type": "markdown",
   "id": "478849da-11e2-453b-bcbf-259170ddf590",
   "metadata": {},
   "source": [
    "**Ans:** Human learning is the form of learning which requires higher order mental processes like thinking, reasoning, intelligence, etc.We learn different concepts from childhood. For example: \n",
    "1. Learning through Association - Classical Conditioning.\n",
    "2. Learning through consequences – Operant Conditioning.\n",
    "3. Learning through observation – Modeling/Observational Learning."
   ]
  },
  {
   "cell_type": "markdown",
   "id": "64366895-3721-4235-823c-7d774c628f9a",
   "metadata": {},
   "source": [
    "##### 2. What different forms of human learning are there? Are there any machine learning equivalents ?"
   ]
  },
  {
   "cell_type": "markdown",
   "id": "18bbdcad-41e1-4de0-b765-75fb4d9157c0",
   "metadata": {},
   "source": [
    "**Ans:** Human learning encompasses various forms and processes, each serving different purposes and occurring in different contexts. Here are some common forms of human learning and their machine learning equivalents:\n",
    "\n",
    "**Supervised Learning:**\n",
    "Human Equivalent: Learning with a teacher or mentor providing labeled examples and feedback.\n",
    "Machine Learning Equivalent: Supervised learning involves training a model on labeled data, where the model learns to map input data to output labels based on the provided examples.\n",
    "\n",
    "**Unsupervised Learning:**\n",
    "Human Equivalent: Discovering patterns or structures in data without explicit guidance or labels.\n",
    "Machine Learning Equivalent: Unsupervised learning involves training a model on unlabeled data to uncover underlying patterns, group similar data points, or reduce dimensionality.\n",
    "\n",
    "**Reinforcement Learning:**\n",
    "Human Equivalent: Learning through trial and error, receiving feedback (rewards or punishments) based on actions taken.\n",
    "Machine Learning Equivalent: Reinforcement learning involves training a model to make sequential decisions by interacting with an environment, receiving feedback in the form of rewards or penalties.\n",
    "\n",
    "**Transfer Learning:**\n",
    "Human Equivalent: Applying knowledge or skills learned in one context to solve problems in another context.\n",
    "Machine Learning Equivalent: Transfer learning involves leveraging knowledge gained from training on one task or dataset to improve performance on a related but different task or dataset.\n",
    "\n",
    "**Active Learning:**\n",
    "Human Equivalent: Actively seeking out information or experiences to enhance learning and understanding.\n",
    "Machine Learning Equivalent: Active learning involves iteratively selecting the most informative data points to label and include in the training set, with the goal of maximizing learning efficiency.\n",
    "\n",
    "**Self-supervised Learning:**\n",
    "Human Equivalent: Learning from the inherent structure or relationships within the data without explicit labels.\n",
    "Machine Learning Equivalent: Self-supervised learning involves training a model to predict certain parts of the input data from other parts, creating implicit supervision signals from the data itself.\n",
    "\n",
    "**Semi-supervised Learning:**\n",
    "Human Equivalent: Learning from a combination of labeled and unlabeled examples.\n",
    "Machine Learning Equivalent: Semi-supervised learning leverages both labeled and unlabeled data to train a model, potentially improving performance when labeled data is scarce or expensive to obtain.\n",
    "\n",
    "These are some of the main forms of human learning and their corresponding equivalents in machine learning. While machine learning algorithms mimic certain aspects of human learning, they often operate at a scale and complexity beyond human capabilities, enabling them to tackle tasks and datasets that would be impractical or impossible for humans to handle alone."
   ]
  },
  {
   "cell_type": "markdown",
   "id": "159196e1-f058-47f8-a646-b03d1ec427fb",
   "metadata": {},
   "source": [
    "##### 3. What is machine learning, and how does it work? What are the key responsibilities of machine learning ?"
   ]
  },
  {
   "cell_type": "markdown",
   "id": "6cc6d69e-0c93-4509-9bd1-fc506258a64b",
   "metadata": {},
   "source": [
    "**Ans:** Machine learning is a branch of Artificial intelligence (AI) that teaches computers on how to think in a similar way to how humans do, like by Learning and improving upon past experiences. \n",
    "- It works by exploring data and identifying patterns, and involves minimal human intervention.  \n",
    "\n",
    "Roles and responsibilities of a machine learning engineer are:\n",
    "- Designing ML systems. \n",
    "- Researching and implementing ML algorithms and tools. Selecting appropriate data sets. \n",
    "- Picking appropriate data representation methods. Identifying differences in data distribution that affects model performance. Verifying data quality."
   ]
  },
  {
   "cell_type": "markdown",
   "id": "26372587-5221-44d0-afa0-f7657ba695b4",
   "metadata": {},
   "source": [
    "##### 4. Define the terms \"penalty\" and \"reward\" in the context of reinforcement learning ?"
   ]
  },
  {
   "cell_type": "markdown",
   "id": "40ca2b56-c966-4f6b-8ca8-7bc056b9f5f8",
   "metadata": {},
   "source": [
    "**Ans:** In the context of reinforcement learning, \"penalty\" and \"reward\" are fundamental concepts that provide feedback to an agent based on its actions in an environment. They play a crucial role in guiding the agent's learning process. Here are their definitions:\n",
    "\n",
    "**Reward:**\n",
    "A reward is a scalar value that indicates the immediate benefit or desirability of an action taken by the agent in a particular state of the environment.\n",
    "Rewards can be positive, negative, or zero, representing favorable outcomes, unfavorable outcomes, or neutral outcomes, respectively.\n",
    "Rewards serve as signals to reinforce or discourage specific actions, guiding the agent towards achieving its goals.\n",
    "The goal of the agent is typically to maximize the cumulative reward it receives over time, known as the cumulative reward or return.\n",
    "\n",
    "**Penalty:**\n",
    "A penalty is a negative reward or punishment imposed on the agent for taking undesirable actions or entering undesirable states in the environment.\n",
    "Penalties are used to discourage the agent from repeating actions that lead to negative outcomes or violating constraints.\n",
    "Similar to rewards, penalties influence the agent's learning process by providing feedback on the consequences of its actions, helping it learn to make better decisions in the future.\n",
    "\n",
    "In summary, rewards and penalties in reinforcement learning serve as feedback signals that guide the agent's behavior towards achieving its objectives in the environment. By maximizing rewards and minimizing penalties, the agent learns to take actions that lead to desirable outcomes and avoid actions that lead to undesirable outcomes."
   ]
  },
  {
   "cell_type": "markdown",
   "id": "1930b50e-2f25-42a7-bbec-521fb6c05fba",
   "metadata": {},
   "source": [
    "##### 5. Explain the term \"learning as a search\" ?"
   ]
  },
  {
   "cell_type": "markdown",
   "id": "67bb23ee-7f02-4b69-b4f3-cce062ac4e8c",
   "metadata": {},
   "source": [
    "**Ans:** \"Learning as a search\" is a concept that describes the process of acquiring knowledge or improving performance by searching through a space of possible solutions or strategies. In this framework, learning is viewed as a search for the best or most optimal solution within a given problem domain.\n",
    "Learning as a search involves systematically exploring a problem space to find the best solutions or strategies for a given learning task. By treating learning as a search problem, researchers and practitioners can apply a variety of search algorithms and optimization techniques to tackle complex learning problems in different domains."
   ]
  },
  {
   "cell_type": "markdown",
   "id": "f6f48c5b-9b4a-4e06-a3e5-5586d56ba0d7",
   "metadata": {},
   "source": [
    "##### 6. What are the various goals of machine learning? What is the relationship between these and human learning ?"
   ]
  },
  {
   "cell_type": "markdown",
   "id": "93a246db-1536-431f-ba8e-ec677ce2804a",
   "metadata": {},
   "source": [
    "**Ans:** The Goal of machine learning, closely coupled with the goal of AI, is to achieve a through understanding about the \n",
    "nature of learning process (both human learning and other forms of learning), about the computational aspects of  learning behaviors, and to implant the learning capability in computer systems.\n",
    "\n",
    "Humans have the ability to learn, however with the progress in artificial intelligence, machine learning has become a resource which can augment or even replace human learning. Learning does not happen all at once, but it builds upon and is shaped by previous knowledge. "
   ]
  },
  {
   "cell_type": "markdown",
   "id": "d7da89be-dc7b-4147-b631-0575e335c5cb",
   "metadata": {},
   "source": [
    "##### 7. Illustrate the various elements of machine learning using a real-life illustration ?"
   ]
  },
  {
   "cell_type": "markdown",
   "id": "f365be66-5115-44ab-804b-61acfb84fbd0",
   "metadata": {},
   "source": [
    "**Ans:** In this real-life illustration, we see how the various elements of machine learning, including data collection, preprocessing, feature extraction, model selection, training, evaluation, deployment, and monitoring, come together to solve a practical problem of spam email classification. Each step contributes to building and deploying an effective machine learning solution that can automate the task of identifying spam emails, saving time and effort for users."
   ]
  },
  {
   "cell_type": "markdown",
   "id": "772c999b-4f78-4527-8641-35443ca19703",
   "metadata": {},
   "source": [
    "##### 8. Provide an example of the abstraction method ?"
   ]
  },
  {
   "cell_type": "markdown",
   "id": "965528bb-9b34-4f6b-a4d5-db6c2b69e61f",
   "metadata": {},
   "source": [
    "**Ans:** In Machine Learning, Abstraction is supported primarily at the level of modules. This can be justified in two ways: first, Data abstraction is mostly a question of program interfaces and therefore it arises naturally at the point where we have to consider program composition and modules."
   ]
  },
  {
   "cell_type": "markdown",
   "id": "aea5363e-6fd4-4f0a-b439-ae26cfc29d9d",
   "metadata": {},
   "source": [
    "##### 9. What is the concept of generalization? What function does it play in the machine learning process ?"
   ]
  },
  {
   "cell_type": "markdown",
   "id": "f45fbb16-f038-4f32-9de2-42c656bfbae3",
   "metadata": {},
   "source": [
    "**Ans:** Generalization refers to your model's ability to adapt properly to new, previously unseen data, drawn from the same \n",
    "distribution as the one used to create the model.\n",
    "\n",
    "In machine learning, generalization is a definition to demonstrate how well is a trained model to classify or forecast unseen data.This issue can result to classify an actual dog image as a cat from the unseen dataset. Therefore, data diversity is very important factor in order to make a good prediction."
   ]
  },
  {
   "cell_type": "markdown",
   "id": "0cda9e4b-8ca1-4120-97d0-b3b1764af493",
   "metadata": {},
   "source": [
    "##### 10. What is classification, exactly? What are the main distinctions between classification and regression ?"
   ]
  },
  {
   "cell_type": "markdown",
   "id": "bd9b5263-905d-4199-a534-ded88b2c1d9a",
   "metadata": {},
   "source": [
    "**Ans:** In Machine Learning, Classification refers to a predictive modeling problem where a class label is predicted for a given example of input data.Classification is the task of predicting a discrete class label. Whereas Regression is the task of predicting a continuous quantity."
   ]
  },
  {
   "cell_type": "markdown",
   "id": "fe17d7b4-51e1-4056-a6c1-0190a83a66cf",
   "metadata": {},
   "source": [
    "##### 11. What is regression, and how does it work? Give an example of a real-world problem that was solved using regression ?"
   ]
  },
  {
   "cell_type": "markdown",
   "id": "01a3303e-56c0-4b6c-88fc-2ded0cad8a32",
   "metadata": {},
   "source": [
    "**Ans:** Regression is a Supervised Machine Learning technique which is used to predict continuous values. The ultimate goal of a regression algorithm is to plot a best-fit line or a curve between the data. \n",
    "\n",
    "The three main metrics that are used for evaluating the trained regression model are **Variance**, **Bias** and **Error**.\n",
    "\n",
    "A simple linear regression real life example could mean you finding a relationship between the revenue and temperature, with a sample size for revenue as the dependent variable. In case of multiple variable regression, you can find the relationship between temperature, pricing and number of workers to the revenue."
   ]
  },
  {
   "cell_type": "markdown",
   "id": "89d84aff-7522-43f2-95d5-54de7ae59201",
   "metadata": {},
   "source": [
    "##### 12. Describe the clustering mechanism in detail ?"
   ]
  },
  {
   "cell_type": "markdown",
   "id": "b5187440-7d45-48cc-9935-eeac0a120454",
   "metadata": {},
   "source": [
    "**Ans:** Clustering is the task of dividing the population or data points into a number of groups such that data points in the same groups are more similar to other data points in the same group than those in other groups. In simple words, the aim is to segregate groups with similar traits and assign them into clusters."
   ]
  },
  {
   "cell_type": "markdown",
   "id": "a3484e80-c067-492a-b603-fe90b4d7cbbc",
   "metadata": {},
   "source": [
    "##### 13. Make brief observations on two of the following topics ?\n",
    "1. Machine learning algorithms are used\n",
    "2. Studying under supervision\n",
    "3. Studying without supervision\n",
    "4. Reinforcement learning is a form of learning based on positive reinforcement."
   ]
  },
  {
   "cell_type": "markdown",
   "id": "9c2a88e9-8a53-4bce-b631-344dd685af05",
   "metadata": {},
   "source": [
    "**Ans:** The breif observations on the following two topics is:\n",
    "\n",
    "**Machine learning algorithms are used**: At its Most basic, Machine Learning uses programmed algorithms that receive and analyse input data to predict output values within an acceptable range. As new data is fed to these algorithms, they learn and optimise their operations to improve performance, developing intelligence over time.\n",
    "\n",
    "**Studying Under Supervision**: In machine learning, there are two important categories- Supervised and Unsupervised learning. Supervised learning, an algorithm learns from a training dataset. We know the correct answers or desired output, the algorithm makes predictions using the given dataset and is corrected by the “supervisor”."
   ]
  },
  {
   "cell_type": "code",
   "execution_count": null,
   "id": "0faa569a-1a3e-4e1b-baa1-5736c8bd0137",
   "metadata": {},
   "outputs": [],
   "source": []
  }
 ],
 "metadata": {
  "kernelspec": {
   "display_name": "Python 3 (ipykernel)",
   "language": "python",
   "name": "python3"
  },
  "language_info": {
   "codemirror_mode": {
    "name": "ipython",
    "version": 3
   },
   "file_extension": ".py",
   "mimetype": "text/x-python",
   "name": "python",
   "nbconvert_exporter": "python",
   "pygments_lexer": "ipython3",
   "version": "3.8.10"
  }
 },
 "nbformat": 4,
 "nbformat_minor": 5
}
