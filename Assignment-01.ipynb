{
 "cells": [
  {
   "cell_type": "markdown",
   "id": "176def4c-94dd-4627-8af0-5ca9422aaf17",
   "metadata": {},
   "source": [
    "# Assignment 01 Solutions"
   ]
  },
  {
   "cell_type": "markdown",
   "id": "c5b1fbc9-fee5-4e06-a3e6-52bb3341f5c9",
   "metadata": {},
   "source": [
    "##### 1. What does one mean by the term \"machine learning\" ?\n",
    "**Ans:** Machine learning Popularly known as ML is a branch of Artificial Intelligence (AI) that allows software applications to become more accurate at predicting outcomes without being explicitly programmed to do so. Machine learning algorithms use historical data as input to predict new output values."
   ]
  },
  {
   "cell_type": "markdown",
   "id": "4116911f-3934-4340-9794-e06299d3afde",
   "metadata": {},
   "source": [
    "##### 2.Can you think of 4 distinct types of issues where it shines ?\n",
    "**Ans:** The following are some of the issues where Machine Learning can be used:\n",
    "\n",
    "- **`Image Recognition`**: Image recognition is one of the most common applications of machine learning. It is used to identify objects, persons, places, digital images, etc. The popular use case of image recognition and face detection is **Automatic friend tagging suggestion**.\n",
    "\n",
    "\n",
    "- **`Speech Recognition`**: While using Google, we get an option of **Search by voice**, it comes under speech recognition, and it's a popular application of Machine Learning. Speech recognition is a process of converting voice instructions  into text, and it is also known as **Speech to text**, or **Computer based speech recognition** At present, machine learning algorithms are widely used by various applications of speech recognition. Google assistant, Siri, Cortana, and Alexa are using speech recognition technology to follow the voice instructions.\n",
    "\n",
    "\n",
    "- **`Traffic prediction`**: It predicts the traffic conditions such as whether traffic is cleared, slow-moving, or heavily congested with the help of two ways: Real Time location of the vehicle form Google Map app and sensors Average time has taken on past days at the same time.\n",
    "\n",
    "\n",
    "- **`Product recommendations`**: Machine learning is widely used by various e-commerce and entertainment companies such as Amazon, Netflix, etc., for product recommendation to the user."
   ]
  },
  {
   "cell_type": "markdown",
   "id": "8f75c60e-2407-492d-91a5-99a709e7067f",
   "metadata": {},
   "source": [
    "##### 3.What is a labeled training set, and how does it work ?\n",
    "**Ans:** A labeled training set is a collection of data where each piece of data is paired with a label or annotation that describes the correct output for that input. In machine learning, this set is used to train algorithms to recognize patterns and make predictions."
   ]
  },
  {
   "cell_type": "markdown",
   "id": "7fcba341-a743-4644-a829-dd0b534e01a8",
   "metadata": {},
   "source": [
    "##### 4.What are the two most important tasks that are supervised ?\n",
    "**Ans:** The two most common supervised learning tasks are **Regression** and **Classification**."
   ]
  },
  {
   "cell_type": "markdown",
   "id": "2c578e25-d019-4978-9972-dc176f2b36f6",
   "metadata": {},
   "source": [
    "##### 5.Can you think of four examples of unsupervised tasks ?\n",
    "**Ans:** Four common Unsupervised Tasks included **Clustering**, **Visualization**, **Dimensionality Reduction**, and **Association Rule Learning**."
   ]
  },
  {
   "cell_type": "markdown",
   "id": "aa249b19-26e3-4527-80c9-c6b6cae44790",
   "metadata": {},
   "source": [
    "##### 6.State the machine learning model that would be best to make a robot walk through various unfamiliar terrains ?\n",
    "**Ans:** The best Machine Learning algorithm to allow a Robot to walk in unfamiliar terrains is **Reinforced Learning**, where the robot can learn from response of the terrain to optimize itself."
   ]
  },
  {
   "cell_type": "markdown",
   "id": "fdafa193-dcfc-44e6-9d3f-1a31dbc66f59",
   "metadata": {},
   "source": [
    "##### 7.Which algorithm will you use to divide your customers into different groups ?\n",
    "**Ans:** The Best Algorithm to Segment Customers into different groups is either **Supervised Learning** (if the groups have known labels) or **Unsupervised Learning** (if there are no group labels)."
   ]
  },
  {
   "cell_type": "markdown",
   "id": "0738e895-f541-4ec7-b340-695cd0909fc9",
   "metadata": {},
   "source": [
    "##### 8.Will you consider the problem of spam detection to be a supervised or unsupervised learning problem ?\n",
    "**Ans:** Spam detection is a Supervised Machine Learning problem because the labels are known (spam or no spam)."
   ]
  },
  {
   "cell_type": "markdown",
   "id": "9614a873-b5cb-41fb-91f2-7860c237e569",
   "metadata": {},
   "source": [
    "##### 9.What is the concept of an online learning system ?\n",
    "**Ans:** An online learning system, also known as incremental learning or online machine learning, is a machine learning paradigm where models are continuously updated and refined over time as new data becomes available. In contrast to traditional batch learning, where models are trained on fixed datasets and updated periodically, online learning systems can adapt to changing environments and evolving data streams in real-time."
   ]
  },
  {
   "cell_type": "markdown",
   "id": "f1c0c3fa-2fa6-451d-aca3-4954af259766",
   "metadata": {},
   "source": [
    "##### 10.What is out-of-core learning, and how does it differ from core learning ?\n",
    "**Ans:** Out-of-core learning, also known as \"disk-based\" or \"external memory\" learning, is a technique used in machine learning to train models on datasets that are too large to fit into the available memory (RAM) of a computer. In contrast, \"core learning\" refers to the conventional approach where the entire dataset is loaded into memory for training. Here's how they differ:\n",
    "\n",
    "**Data Storage:**\n",
    "In core learning, the entire dataset is loaded into memory (RAM) before training begins. This approach requires sufficient memory to accommodate the entire dataset, which may not be feasible for large datasets.\n",
    "In out-of-core learning, the dataset is stored on disk, and only small portions of the data are loaded into memory at a time during training. This allows models to be trained on datasets that are larger than the available memory.\n",
    "\n",
    "**Data Access:**\n",
    "In core learning, data access is fast since the entire dataset is stored in memory, allowing for efficient random access to any data point during training.\n",
    "In out-of-core learning, data access is slower because data must be read from disk into memory in smaller chunks. This can introduce overhead due to disk I/O operations, especially when accessing data randomly.\n",
    "\n",
    "**Training Process:**\n",
    "In core learning, the training process is straightforward since the entire dataset is readily available in memory. Models can be trained using standard algorithms and techniques.\n",
    "In out-of-core learning, the training process requires special techniques to handle the data loading and processing efficiently. Algorithms must be designed to operate on small batches of data at a time, and care must be taken to minimize disk I/O overhead.\n",
    "\n",
    "**Scalability:**\n",
    "Core learning may not scale well to very large datasets that exceed the available memory capacity of the machine.\n",
    "Out-of-core learning is designed to handle datasets of any size, making it more scalable and suitable for large-scale machine learning tasks.\n",
    "\n",
    "**Resource Requirements:**\n",
    "Core learning requires sufficient memory to accommodate the entire dataset, which can be a limiting factor for large datasets.\n",
    "Out-of-core learning requires less memory since only small portions of the data are loaded into memory at a time. However, it may require more disk space to store the dataset on disk.\n",
    "\n",
    "Overall, out-of-core learning enables machine learning models to handle datasets that are too large to fit into memory, making it a valuable technique for big data and large-scale machine learning applications."
   ]
  },
  {
   "cell_type": "markdown",
   "id": "edf47c2f-bb87-46ee-beb1-a05fdb98602a",
   "metadata": {},
   "source": [
    "##### 11.What kind of learning algorithm makes predictions using a similarity measure ?\n",
    "**Ans:** The kind of learning algorithm that makes predictions using a similarity measure is often referred to as instance-based learning or similarity-based learning. One of the most common algorithms in this category is the k-nearest neighbors (k-NN) algorithm."
   ]
  },
  {
   "cell_type": "markdown",
   "id": "f988a367-b021-4dbf-92bd-28a74181fb7f",
   "metadata": {},
   "source": [
    "##### 12.What's the difference between a model parameter and a hyperparameter in a learning algorithm ?\n",
    "**Ans:** **Model Parameters**:\n",
    "Model parameters are the internal variables that the model learns from the training data.\n",
    "They directly contribute to the mapping from inputs to outputs and are adjusted during the training process to minimize the difference between the predicted outputs and the actual outputs.\n",
    "Examples of model parameters include the weights in a neural network, the coefficients in a linear regression model, or the split points in a decision tree.\n",
    "The values of model parameters are learned automatically during the training process and are typically optimized using techniques like gradient descent or other optimization algorithms.\n",
    "\n",
    "**Hyperparameters**:\n",
    "Hyperparameters are settings or configurations that are external to the model and are not learned from the data.\n",
    "They control the overall behavior of the learning algorithm and affect how the model is trained.\n",
    "Hyperparameters are set before the learning process begins and are usually tuned through trial and error or using techniques like grid search or random search.\n",
    "Examples of hyperparameters include the learning rate in gradient descent, the number of hidden layers in a neural network, the depth of a decision tree, or the choice of kernel in a support vector machine.\n",
    "The choice of hyperparameters can significantly impact the performance of the model, and finding optimal values for hyperparameters is an important part of the machine learning workflow."
   ]
  },
  {
   "cell_type": "markdown",
   "id": "30c080ce-2ce3-4aa4-ad02-a3ac1d259003",
   "metadata": {},
   "source": [
    "##### 13.What are the criteria that model-based learning algorithms look for? What is the most popular method they use to achieve success? What method do they use to make predictions ?\n",
    "**Ans:** Model based learning algorithm search for the optimal value of parameters in a model that will give the best results for the new instances. We often use a cost function or similar to determine what the parameter value has to be in order to minimize the function. The model makes prediction by using the value of the new instance and the parameters in its function."
   ]
  },
  {
   "cell_type": "markdown",
   "id": "109a4d51-d616-4652-bb51-9706d3a9736c",
   "metadata": {},
   "source": [
    "##### 14.Can you name four of the most important Machine Learning challenges ?\n",
    "**Ans:** Four main challenges in Machine Learning include the following:\n",
    "1. Overfitting the Data (using a model too complicated)\n",
    "2. Underfitting the data (using a simple model)\n",
    "3. Lacking in Data\n",
    "4. Non Representative Data."
   ]
  },
  {
   "cell_type": "markdown",
   "id": "c5d751cf-8ffb-43b1-853e-5a4a2ab87dab",
   "metadata": {},
   "source": [
    "##### 15.What happens if the model performs well on the training data but fails to generalize the results to new situations? Can you think of three different options ?\n",
    "**Ans:** If the model performs poorly to new instances, then it has overfitted on the training data. To solve this, we can do any of the following three: \n",
    "- Get more data\n",
    "- Implement a simpler model\n",
    "- Eliminate outliers or noise from the existing data set."
   ]
  },
  {
   "cell_type": "markdown",
   "id": "ccc6f69e-9ad8-4d2d-bfc5-45e26e9141e7",
   "metadata": {},
   "source": [
    "##### 16.What exactly is a test set, and why would you need one ?\n",
    "**Ans:** Test set is a set to test your model (fit using training data) to see how it performs.Test set is necessary to determine how good (or bad) a model performs."
   ]
  },
  {
   "cell_type": "markdown",
   "id": "d454b1cb-c4c2-446d-acae-8d175408b42b",
   "metadata": {},
   "source": [
    "##### 17.What is a validation set's purpose ?\n",
    "**Ans:** Validation set is a set used to compare between different training models."
   ]
  },
  {
   "cell_type": "markdown",
   "id": "ecd6334e-72e3-43d2-aa04-ae0935c9a417",
   "metadata": {},
   "source": [
    "##### 18.What precisely is the train-dev kit, when will you need it, how do you put it to use ?\n",
    "**Ans:** Cross-validation is a tool to compare models without needing a separate validation set. It is preferred over validation set because we can save from breaking of part of the training set to create a validation set, as having more data is valuable regardless."
   ]
  },
  {
   "cell_type": "markdown",
   "id": "4b5ed1f9-2243-496b-a41e-76f6b7c65690",
   "metadata": {},
   "source": [
    "##### 19.What could go wrong if you use the test set to tune hyperparameters ?\n",
    "**Ans:** If you tune hyperparameters using the test sets, then it may not perform well on the out-of-sample data because the model is tuned just for that specific set."
   ]
  },
  {
   "cell_type": "code",
   "execution_count": null,
   "id": "cea08585-39fa-43f3-805d-ff50cc9bf768",
   "metadata": {},
   "outputs": [],
   "source": []
  }
 ],
 "metadata": {
  "kernelspec": {
   "display_name": "Python 3 (ipykernel)",
   "language": "python",
   "name": "python3"
  },
  "language_info": {
   "codemirror_mode": {
    "name": "ipython",
    "version": 3
   },
   "file_extension": ".py",
   "mimetype": "text/x-python",
   "name": "python",
   "nbconvert_exporter": "python",
   "pygments_lexer": "ipython3",
   "version": "3.8.10"
  }
 },
 "nbformat": 4,
 "nbformat_minor": 5
}
