{
 "cells": [
  {
   "cell_type": "markdown",
   "id": "e576e691-49c9-463c-9f29-d4f03950d0cd",
   "metadata": {},
   "source": [
    "# Assignment 04 Solutions"
   ]
  },
  {
   "cell_type": "markdown",
   "id": "dfbb6d6a-01d4-4bbc-aaf6-8a77c46a76d9",
   "metadata": {},
   "source": [
    "##### 1. What are the key tasks involved in getting ready to work with machine learning modeling ?"
   ]
  },
  {
   "cell_type": "markdown",
   "id": "36c0e2dc-f2f1-443a-8191-6967b4c390f5",
   "metadata": {},
   "source": [
    "Ans: The Key Tasks involved in getting ready to work with Machine learning Modelling are:\n",
    "1. Data collection: Defining the problem and assembling a dataset.\n",
    "2. Data preparation: Preparing your data.\n",
    "3. Choosing a Model\n",
    "4. Training the Model: Developing a model that does better than a baseline.\n",
    "5. Evaluating the Model: Choosing a measure of success. Deciding on an evaluation protocol.\n",
    "6. Parameter tuning: Scaling up: developing a model that overfits.Regularizing your model and tuning your parameters.\n",
    "7. Prediction or Inference."
   ]
  },
  {
   "cell_type": "markdown",
   "id": "0ba63fc0-331e-47c9-aa46-140c5eaaad52",
   "metadata": {},
   "source": [
    "##### 2. What are the different forms of data used in machine learning ? Give a specific example for each of them ?"
   ]
  },
  {
   "cell_type": "markdown",
   "id": "1cbc9cbf-8411-428b-8ec5-65be2d85ee7d",
   "metadata": {},
   "source": [
    "**Ans:** Most data can be categorized into 4 basic types from a Machine Learning perspective: **`Numerical Data`**, **`Categorical Data`**, **`Time-Series Data`**, and **`Text data`**."
   ]
  },
  {
   "cell_type": "markdown",
   "id": "3a02285f-8da4-4685-9ee7-f9c7737a8d4c",
   "metadata": {},
   "source": [
    "**Numerical Data:**  \n",
    "Numerical data is any data where data points are exact numbers. Statisticians also might call numerical data, quantitative data. This data has meaning as a measurement such as house prices or as a count, such as a number of residential properties in Los Angeles or how many houses sold in the past year.\n",
    "\n",
    "Numerical data can be characterized by continuous or discrete data. Continuous data can assume any value within a range whereas discrete data has distinct values.\n"
   ]
  },
  {
   "cell_type": "markdown",
   "id": "88b22ac8-9a7b-4414-b81e-f0c37820913e",
   "metadata": {},
   "source": [
    "**Categorical Data:**   \n",
    "Categorical data represents characteristics, such as a hockey player’s position, team, hometown. Categorical data can take numerical values. For example, maybe we would use 1 for the colour red and 2 for blue. But these numbers don’t have a mathematical meaning. That is, we can’t add them together or take the average.\n"
   ]
  },
  {
   "cell_type": "markdown",
   "id": "124db70f-4726-4deb-88ff-5045f1ea3ca3",
   "metadata": {},
   "source": [
    "**Time Series Data:**        \n",
    "Time series data is a sequence of numbers collected at regular intervals over some period of time. It is very important, especially in particular fields like finance. Time series data has a temporal value attached to it, so this would be something like a date or a timestamp that you can look for trends in time.\n"
   ]
  },
  {
   "cell_type": "markdown",
   "id": "fd1451b9-ab7d-4fe4-a486-42f26c31bd66",
   "metadata": {},
   "source": [
    "**Text:**  \n",
    "Text data is basically just words. A lot of the time the first thing that you do with text is you turn it into numbers using some interesting functions like the bag of words formulation.\n"
   ]
  },
  {
   "cell_type": "markdown",
   "id": "442f4757-76ec-4fcd-a83d-71d7ad0e5acc",
   "metadata": {},
   "source": [
    "##### 3. Distinguish between :\n",
    "1. Numeric vs. categorical attributes\n",
    "2. Feature selection vs. dimensionality reduction"
   ]
  },
  {
   "cell_type": "markdown",
   "id": "e040f935-d3a3-4066-8d4a-0b0cdf2c9131",
   "metadata": {},
   "source": [
    "**Ans:** The following are the differences between:\n",
    "\n",
    "1. **Numeric vs. categorical attributes:**  \n",
    "- Numerical data are values obtained for quantitative variable, and carries a sense of magnitude related to the context of the variable (hence, they are always numbers or symbols carrying a numerical value). \n",
    "- Categorical data are values obtained for a qualitative variable. categorical data numbers do not carry a sense of magnitude.\n",
    "- Numerical data always belong to either ordinal, ratio, or interval type, whereas categorical data belong to nominal  type. - - Methods used to analyse quantitative data are different from the methods used for categorical data, even if the principles are the same at least the application has significant differences.\n",
    "- Numerical data are analysed using  statistical methods in descriptive statistics, regression, time series and many more.For categorical data usually descriptive methods and graphical methods are employed. Some non-parametric tests are also used.\n",
    "\n",
    "\n",
    "2. **Feature selection vs. dimensionality reduction**  \n",
    "- Feature selection you just select a subset of the original feature set, without any manipulation of the data on the other hand.\n",
    "- Dimensionality reduction is typically choosing a new representation within which you can describe most but not all of the variance within your data, thereby retaining the relevant information, while reducing theamount of information necessary to represent it."
   ]
  },
  {
   "cell_type": "markdown",
   "id": "67e7fe8b-6c8c-493c-8c60-a80b8df81a04",
   "metadata": {},
   "source": [
    "##### 4. Make quick notes on any two of the following ?\n",
    "1. The histogram\n",
    "2. Use a scatter plot\n",
    "3. PCA (Personal Computer Aid)"
   ]
  },
  {
   "cell_type": "markdown",
   "id": "b62dbb20-1202-4184-ad79-9c7854269818",
   "metadata": {},
   "source": [
    "**Ans:** The Quick notes on the following three topics is:\n",
    "\n",
    "**The histogram:** A Histogram is a graphical representation that organizes a group of data points into user-specified\n",
    "ranges. Similar in appearance to a bar graph, the histogram condenses a data series into an easily\n",
    "interpreted visual by taking many data points and grouping them into logical ranges or bins.\n",
    "\n",
    "**Use a scatter plot:** A scatter plot (aka scatter chart, scatter graph) uses dots to represent values for two different numeric variables. The position of each dot on the horizontal and vertical axis indicates values for an individual data point. Scatter plots are used to observe relationships between variables.\n",
    "\n",
    "**PCA (Personal Computer Aid):** Principal Component Analysis or PCA is a widely used technique for dimensionality reduction of the large data set. Reducing the number of components or features costs some accuracy and on the other hand, it makes the large data set simpler, easy to explore and visualize. "
   ]
  },
  {
   "cell_type": "markdown",
   "id": "5f999c20-5328-43ac-80a5-505db1edb5f0",
   "metadata": {},
   "source": [
    "##### 5. Why is it necessary to investigate data? Is there a discrepancy in how qualitative and quantitative data are explored ?"
   ]
  },
  {
   "cell_type": "markdown",
   "id": "ff7c8f59-4912-4021-bfad-7c907308b076",
   "metadata": {},
   "source": [
    "**Ans:** If your data set is messy, building models will not help you to solve your problem. What will happen is `Garbage In, Garbage Out.` In order to build a powerful machine learning algorithm. We need to explore and understand our data set before we define a predictive task and solve it. "
   ]
  },
  {
   "cell_type": "markdown",
   "id": "5c05c4ee-1d69-43e9-ace9-757e0f0737ef",
   "metadata": {},
   "source": [
    "##### 6. What are the various histogram shapes? What exactly are ‘bins' ?"
   ]
  },
  {
   "cell_type": "markdown",
   "id": "63cbe296-c951-4c06-8492-44022cbc1b09",
   "metadata": {},
   "source": [
    "**Ans:** The different types of a Histogram are:\n",
    "\n",
    "1. Uniform Histogram\n",
    "2. Symmetric Histogram\n",
    "3. Bimodal Histogram\n",
    "4. Probability Histogram.  \n",
    "\n",
    "The `bin` in a histogram is the choice of unit and spacing on the X-axis. All the data in a probability distribution represented visually by a histogram is filled into the corresponding bins. The height of each bin is a measurement of  the frequency with which data appears inside the range of that bin in the distribution."
   ]
  },
  {
   "cell_type": "markdown",
   "id": "b435b32a-fb11-4467-a8e7-b5da54166487",
   "metadata": {},
   "source": [
    "##### 7. How do we deal with data outliers ?"
   ]
  },
  {
   "cell_type": "markdown",
   "id": "b4facb75-114d-454a-a5b3-6579a1e9677e",
   "metadata": {},
   "source": [
    "**Ans:** We can use **`Z-Score`** or any of below methods to deal with data outliers:\n",
    "\n",
    "**Univariate Method:** This method looks for data points with extreme values on one variable.\n",
    "\n",
    "**Multivariate Method:** Here, we look for unusual combinations of all the variables.\n",
    "\n",
    "**Minkowski Error:** This method reduces the contribution of potential outliers in the training process.\n",
    "\n",
    "**Z-Score:** This can be done with just one line code as we have already calculated the Z-score.  \n",
    "`boston_df_o = boston_df_o[(z < 3).all(axis=1)]`\n",
    "\n",
    "**IQR Score:** Calculate IQR score to filter out the outliers by keeping only valid values.  \n",
    "`boston_df_out = boston_df_o1[~((boston_df_o1 < (Q1 - 1.5 * IQR)) |(boston_df_o1 > (Q3 + 1.5 *IQR))).any(axis=1)]`  \n",
    "`boston_df_out.shape`  \n",
    "\n",
    "**Quantile function:** Use `quantile()` to remove amount of data. "
   ]
  },
  {
   "cell_type": "markdown",
   "id": "d3965f3b-cd5a-474e-8267-8f4dd6e6c84d",
   "metadata": {},
   "source": [
    "##### 8. What are the various central inclination measures? Why does mean vary too much from median in certain data sets ?"
   ]
  },
  {
   "cell_type": "markdown",
   "id": "831018ca-b553-43eb-b934-1eae8dcdd8ac",
   "metadata": {},
   "source": [
    "**Ans:** `Mean`, `Median` and `Mode` are Central Inclination Measures. Mean varies more than Median due to presence of outliers, as mean is averaging all points while median in like finding a middle number."
   ]
  },
  {
   "cell_type": "markdown",
   "id": "414bd529-9374-4075-82f0-913d76f923ec",
   "metadata": {},
   "source": [
    "##### 9. Describe how a scatter plot can be used to investigate bivariate relationships. Is it possible to find outliers using a scatter plot ?"
   ]
  },
  {
   "cell_type": "markdown",
   "id": "9a452d72-59ca-4506-9e97-38aecd896040",
   "metadata": {},
   "source": [
    "**Ans:** A `Scatter Plot` (aka scatter chart, scatter graph) uses dots to represent values for two different numeric variables. The position of each dot on the horizontal and vertical axis indicates values for an individual data point. So this visualization gives us the idea of bivariate relationship.\n",
    "\n",
    "Scatter plot can also help finding outliers as outliers can be visualized at farther distance than regular data. "
   ]
  },
  {
   "cell_type": "markdown",
   "id": "fdbb3c27-4013-4d87-9a4c-55479c5340da",
   "metadata": {},
   "source": [
    "##### 10. Describe how cross-tabs can be used to figure out how two variables are related ?"
   ]
  },
  {
   "cell_type": "markdown",
   "id": "404d656c-5bac-4864-8abb-394f5faeb432",
   "metadata": {},
   "source": [
    "**Ans:** `Cross tabulation` is a method to quantitatively analyze the relationship between multiple variables. Also known as contingency tables or cross tabs, cross tabulation groups variables to understand the correlation between different variables. It also shows how correlations change from one variable grouping to another. "
   ]
  },
  {
   "cell_type": "code",
   "execution_count": null,
   "id": "5c53a271-1720-4d95-a6e1-cd4803344487",
   "metadata": {},
   "outputs": [],
   "source": []
  }
 ],
 "metadata": {
  "kernelspec": {
   "display_name": "Python 3 (ipykernel)",
   "language": "python",
   "name": "python3"
  },
  "language_info": {
   "codemirror_mode": {
    "name": "ipython",
    "version": 3
   },
   "file_extension": ".py",
   "mimetype": "text/x-python",
   "name": "python",
   "nbconvert_exporter": "python",
   "pygments_lexer": "ipython3",
   "version": "3.8.10"
  }
 },
 "nbformat": 4,
 "nbformat_minor": 5
}
